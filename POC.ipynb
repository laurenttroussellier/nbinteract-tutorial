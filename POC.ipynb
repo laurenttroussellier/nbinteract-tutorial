{
 "cells": [
  {
   "cell_type": "code",
   "execution_count": 1,
   "id": "01ae5127-8e4b-44ef-9c63-a7fc4e239f28",
   "metadata": {
    "execution": {
     "iopub.execute_input": "2022-04-07T08:26:18.003916Z",
     "iopub.status.busy": "2022-04-07T08:26:18.002401Z",
     "iopub.status.idle": "2022-04-07T08:26:18.337379Z",
     "shell.execute_reply": "2022-04-07T08:26:18.336554Z",
     "shell.execute_reply.started": "2022-04-07T08:26:18.003807Z"
    }
   },
   "outputs": [],
   "source": [
    "from ipywidgets import interact"
   ]
  },
  {
   "cell_type": "code",
   "execution_count": 2,
   "id": "907c14f4-b466-4c4f-92c2-2d1a3f1e0cce",
   "metadata": {
    "execution": {
     "iopub.execute_input": "2022-04-07T08:26:26.902592Z",
     "iopub.status.busy": "2022-04-07T08:26:26.901045Z",
     "iopub.status.idle": "2022-04-07T08:26:26.915227Z",
     "shell.execute_reply": "2022-04-07T08:26:26.913447Z",
     "shell.execute_reply.started": "2022-04-07T08:26:26.902404Z"
    }
   },
   "outputs": [],
   "source": [
    "def square(x):\n",
    "    return x * x"
   ]
  },
  {
   "cell_type": "code",
   "execution_count": 3,
   "id": "9a5f590c-789f-4dba-bff8-3d8b2696011e",
   "metadata": {
    "execution": {
     "iopub.execute_input": "2022-04-07T08:26:39.801719Z",
     "iopub.status.busy": "2022-04-07T08:26:39.800456Z",
     "iopub.status.idle": "2022-04-07T08:26:39.857649Z",
     "shell.execute_reply": "2022-04-07T08:26:39.856881Z",
     "shell.execute_reply.started": "2022-04-07T08:26:39.801602Z"
    }
   },
   "outputs": [
    {
     "data": {
      "application/vnd.jupyter.widget-view+json": {
       "model_id": "99e18c1fa56d4677a4145bd8d6782083",
       "version_major": 2,
       "version_minor": 0
      },
      "text/plain": [
       "interactive(children=(IntSlider(value=10, description='x', max=30, min=-10), Output()), _dom_classes=('widget-…"
      ]
     },
     "metadata": {},
     "output_type": "display_data"
    }
   ],
   "source": [
    "interact(square, x=10);"
   ]
  },
  {
   "cell_type": "code",
   "execution_count": null,
   "id": "166ee0ec-2a51-47da-993f-8b4799269cb2",
   "metadata": {},
   "outputs": [],
   "source": []
  }
 ],
 "metadata": {
  "kernelspec": {
   "display_name": "Python 3 (ipykernel)",
   "language": "python",
   "name": "python3"
  },
  "language_info": {
   "codemirror_mode": {
    "name": "ipython",
    "version": 3
   },
   "file_extension": ".py",
   "mimetype": "text/x-python",
   "name": "python",
   "nbconvert_exporter": "python",
   "pygments_lexer": "ipython3",
   "version": "3.8.10"
  }
 },
 "nbformat": 4,
 "nbformat_minor": 5
}
